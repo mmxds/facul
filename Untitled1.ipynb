{
  "nbformat": 4,
  "nbformat_minor": 0,
  "metadata": {
    "colab": {
      "provenance": [],
      "authorship_tag": "ABX9TyP6n134ar92N8vPNcSqktow",
      "include_colab_link": true
    },
    "kernelspec": {
      "name": "python3",
      "display_name": "Python 3"
    },
    "language_info": {
      "name": "python"
    }
  },
  "cells": [
    {
      "cell_type": "markdown",
      "metadata": {
        "id": "view-in-github",
        "colab_type": "text"
      },
      "source": [
        "<a href=\"https://colab.research.google.com/github/mmxds/facul/blob/main/Untitled1.ipynb\" target=\"_parent\"><img src=\"https://colab.research.google.com/assets/colab-badge.svg\" alt=\"Open In Colab\"/></a>"
      ]
    },
    {
      "cell_type": "code",
      "execution_count": null,
      "metadata": {
        "id": "4So9pTPD9Tmj"
      },
      "outputs": [],
      "source": [
        "\"\"\"Soma de Dois Números: Crie um programa que peça ao usuário dois números e\n",
        "exiba a soma deles.\"\"\""
      ]
    },
    {
      "cell_type": "code",
      "source": [
        "num1 = float(input(\"Digite o primeiro número: \"))\n",
        "num2 = float(input(\"Digite o segundo número: \"))\n",
        "soma = num1 + num2\n",
        "print(f\"A soma de {num1} e {num2} é {soma}.\")"
      ],
      "metadata": {
        "colab": {
          "base_uri": "https://localhost:8080/"
        },
        "id": "kFsR-XUE91K_",
        "outputId": "48cbbdde-6d65-43fc-f9eb-b9bbe8978100"
      },
      "execution_count": 6,
      "outputs": [
        {
          "output_type": "stream",
          "name": "stdout",
          "text": [
            "Digite o primeiro número: 5\n",
            "Digite o segundo número: 6\n",
            "A soma de 5.0 e 6.0 é 11.0.\n"
          ]
        }
      ]
    },
    {
      "cell_type": "code",
      "source": [
        "\"\"\"Diferença entre Dois Números: Peça ao usuário dois números e mostre a\n",
        "diferença entre o maior e o menor.\"\"\""
      ],
      "metadata": {
        "id": "srjTYcCSCQxx"
      },
      "execution_count": null,
      "outputs": []
    },
    {
      "cell_type": "code",
      "source": [
        "num1 = float(input(\"Digite o primeiro número: \"))\n",
        "num2 = float(input(\"Digite o segundo número: \"))\n",
        "dif = num1 - num2\n",
        "print(f\"A difernça é {dif}.\")"
      ],
      "metadata": {
        "colab": {
          "base_uri": "https://localhost:8080/"
        },
        "id": "E6VYOUg_CU6C",
        "outputId": "bc109cd7-685f-460c-b8db-90c7f33bfa50"
      },
      "execution_count": 10,
      "outputs": [
        {
          "output_type": "stream",
          "name": "stdout",
          "text": [
            "Digite o primeiro número: 8\n",
            "Digite o segundo número: 5\n",
            "A difernça é 3.0.\n"
          ]
        }
      ]
    },
    {
      "cell_type": "code",
      "source": [
        "\"\"\"Produto de Três Números: Solicite três números ao usuário e mostre o produto\n",
        "(multiplicação) deles.\"\"\""
      ],
      "metadata": {
        "id": "g8zh4pupDUNx"
      },
      "execution_count": null,
      "outputs": []
    },
    {
      "cell_type": "code",
      "source": [
        "num1 = float(input(\"Digite o primeiro número: \"))\n",
        "num2 = float(input(\"Digite o segundo número: \"))\n",
        "num3 = float(input(\"Digite o segundo número: \"))\n",
        "mult = num1 * num2 * num3\n",
        "print(f\"O produto é {mult}.\")"
      ],
      "metadata": {
        "colab": {
          "base_uri": "https://localhost:8080/"
        },
        "id": "jdTnoVHsDX5U",
        "outputId": "c550f749-50b6-4184-abca-437e8532f758"
      },
      "execution_count": 12,
      "outputs": [
        {
          "output_type": "stream",
          "name": "stdout",
          "text": [
            "Digite o primeiro número: 5\n",
            "Digite o segundo número: 9\n",
            "Digite o segundo número: 8\n",
            "O produto é 360.0.\n"
          ]
        }
      ]
    },
    {
      "cell_type": "code",
      "source": [
        "\"\"\"Média Aritmética: Crie um programa que solicite cinco números e calcule a\n",
        "média aritmética deles.\"\"\""
      ],
      "metadata": {
        "id": "qpiMdWB0OWUC"
      },
      "execution_count": null,
      "outputs": []
    },
    {
      "cell_type": "code",
      "source": [
        "num1 = float(input(\"Digite o primeiro número: \"))\n",
        "num2 = float(input(\"Digite o segundo número: \"))\n",
        "num3 = float(input(\"Digite o segundo número: \"))\n",
        "num4 = float(input(\"Digite o segundo número: \"))\n",
        "num5 = float(input(\"Digite o segundo número: \"))\n",
        "media = (num1 + num2 + num3 + num4 + num5) / 5\n",
        "print(f\"O produto é {media}.\")"
      ],
      "metadata": {
        "colab": {
          "base_uri": "https://localhost:8080/"
        },
        "id": "fnnZ1vOEOYkB",
        "outputId": "dda2a5e4-b0df-4d90-95ea-0b1e86ba4f84"
      },
      "execution_count": 15,
      "outputs": [
        {
          "output_type": "stream",
          "name": "stdout",
          "text": [
            "Digite o primeiro número: 8\n",
            "Digite o segundo número: 9\n",
            "Digite o segundo número: 4\n",
            "Digite o segundo número: 6\n",
            "Digite o segundo número: 3\n",
            "O produto é 6.0.\n"
          ]
        }
      ]
    },
    {
      "cell_type": "code",
      "source": [
        "\"\"\"Quadrado de um Número: Solicite um número ao usuário e exiba o quadrado\n",
        "dele (número multiplicado por ele mesmo).\"\"\""
      ],
      "metadata": {
        "id": "uBV5qVsFPgT1"
      },
      "execution_count": null,
      "outputs": []
    },
    {
      "cell_type": "code",
      "source": [
        "num1 = float(input(\"Digite o número: \"))\n",
        "quad = (num1)*(num1)\n",
        "print(f\"O produto é {quad}.\")"
      ],
      "metadata": {
        "colab": {
          "base_uri": "https://localhost:8080/"
        },
        "id": "O6j4o_P_PizW",
        "outputId": "03f2b9a2-c05d-4b98-fe52-4cd425d2c88c"
      },
      "execution_count": 24,
      "outputs": [
        {
          "output_type": "stream",
          "name": "stdout",
          "text": [
            "Digite o número: 3\n",
            "O produto é 9.0.\n"
          ]
        }
      ]
    },
    {
      "cell_type": "code",
      "source": [
        "\"\"\"Área de um Triângulo: Solicite a base e a altura de um triângulo e calcule sua\n",
        "área usando a fórmula:\n",
        "• Area=base×altura2\"\"\""
      ],
      "metadata": {
        "id": "Ap78Ei-SRJ-k"
      },
      "execution_count": null,
      "outputs": []
    },
    {
      "cell_type": "code",
      "source": [
        "base = float(input(\"Digite sua base : \"))\n",
        "altura = float(input(\"Digite sua altura : \"))\n",
        "area = (base * altura)\n",
        "print(f\"sua area é {area}.\")"
      ],
      "metadata": {
        "id": "IMa_048aRM1G"
      },
      "execution_count": null,
      "outputs": []
    }
  ]
}